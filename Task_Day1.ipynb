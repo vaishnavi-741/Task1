{
 "cells": [
  {
   "cell_type": "code",
   "execution_count": 1,
   "id": "0cc57302-075e-433b-8d83-9d7acfc6b55f",
   "metadata": {},
   "outputs": [],
   "source": [
    "#Task 1: User Input and String Manipulation \n",
    "#1. Asks the user to enter their full name.\n",
    "#2. Converts the name to title case (first letter capitalized for each word). \n",
    "#3. Counts and prints the total number of characters (excluding spaces)."
   ]
  },
  {
   "cell_type": "code",
   "execution_count": 2,
   "id": "81aa86ee",
   "metadata": {},
   "outputs": [
    {
     "name": "stdin",
     "output_type": "stream",
     "text": [
      "Enter Your Full Name :  vaishnavi\n"
     ]
    },
    {
     "name": "stdout",
     "output_type": "stream",
     "text": [
      "Title Case :  Vaishnavi\n",
      "length of character :  9\n"
     ]
    }
   ],
   "source": [
    "Name = input(\"Enter Your Full Name : \")\n",
    "title_case = Name.title()\n",
    "print(\"Title Case : \",title_case)\n",
    "char_len = len(Name.replace(\" \",\"\"))\n",
    "print(\"length of character : \",char_len)\n"
   ]
  },
  {
   "cell_type": "code",
   "execution_count": 3,
   "id": "857cd8e2-405e-4d92-b050-571ac726810d",
   "metadata": {},
   "outputs": [],
   "source": [
    "#Task 2: Number Guessing Game \n",
    "#1. Generates a random number between 1 and 50. \n",
    "#2. Asks the user to guess the number. \n",
    "#3. Gives hints like \"Too High\" or \"Too Low\" until the user guesses correctly. \n",
    "#4. Displays how many attempts it took to guess the number."
   ]
  },
  {
   "cell_type": "code",
   "execution_count": 4,
   "id": "90bc92b0-4b7a-4372-a3b5-008646991788",
   "metadata": {},
   "outputs": [
    {
     "name": "stdin",
     "output_type": "stream",
     "text": [
      "Guess The Number :  2\n"
     ]
    },
    {
     "name": "stdout",
     "output_type": "stream",
     "text": [
      "The number is greater than your guess\n"
     ]
    },
    {
     "name": "stdin",
     "output_type": "stream",
     "text": [
      "Guess The Number :  3\n"
     ]
    },
    {
     "name": "stdout",
     "output_type": "stream",
     "text": [
      "The number is greater than your guess\n"
     ]
    },
    {
     "name": "stdin",
     "output_type": "stream",
     "text": [
      "Guess The Number :  \n"
     ]
    },
   ],
   "source": [
    "import random\n",
    "num = random.randint(1,51)\n",
    "attempt = 0\n",
    "while True:\n",
    "    guess = int(input(\"Guess The Number : \"))\n",
    "    attempt = attempt + 1\n",
    "    if guess < num:\n",
    "        print(\"The number is greater than your guess\")\n",
    "    elif guess > num:\n",
    "        print(\"The number is less than your guess\")\n",
    "    elif guess = num:\n",
    "        print(f\"Congrats! you guess the number correctly in  {attempt} attempts\")\n",
    "    else:\n",
    "        print(\"invalid input\")\n",
    "    "
   ]
  },
  {
   "cell_type": "code",
   "execution_count": null,
   "id": "44959205-d3e1-459d-94f7-6a6e551e2597",
   "metadata": {},
   "outputs": [],
   "source": [
    "#Task 3: Basic Math Operations \n",
    "#1. Takes two numbers as input from the user and performs:\n",
    "# Addition, Subtraction, Multiplication, Division "
   ]
  },
  {
   "cell_type": "code",
   "execution_count": 5,
   "id": "0de5e17f",
   "metadata": {},
   "outputs": [
    {
     "name": "stdin",
     "output_type": "stream",
     "text": [
      "Enter the number1 :  2\n",
      "Enter the number2 :  4\n"
     ]
    },
    {
     "name": "stdout",
     "output_type": "stream",
     "text": [
      "Addition of 2 and 4 is : 6\n",
      "Subtraction of 2 and 4 is : -2\n",
      "Multiplication of 2 and 4 is : 8\n",
      "Division of 2 and 4 is : 0.5\n"
     ]
    }
   ],
   "source": [
    "num1 = int(input(\"Enter the number1 : \"))\n",
    "num2 = int(input(\"Enter the number2 : \"))\n",
    "add = num1+num2\n",
    "sub = num1-num2\n",
    "mult = num1*num2\n",
    "div = num1/num2\n",
    "print(f\"Addition of {num1} and {num2} is : {add}\")\n",
    "print(f\"Subtraction of {num1} and {num2} is : {sub}\")\n",
    "print(f\"Multiplication of {num1} and {num2} is : {mult}\")\n",
    "print(f\"Division of {num1} and {num2} is : {div}\")"
   ]
  },
  {
   "cell_type": "code",
   "execution_count": null,
   "id": "4c83eb2f-1a3e-43c0-96c9-c1c4b656a248",
   "metadata": {},
   "outputs": [],
   "source": [
    "#Task 4: Factorial using Loops and Recursion \n",
    "#1. Implement two functions to calculate the factorial of a given number: \n",
    "#1.a. One function using a for loop. \n",
    "#1.b. Another function using recursion. \n",
    "#2. Ask the user for a number and print its factorial using both methods."
   ]
  },
  {
   "cell_type": "code",
   "execution_count": 11,
   "id": "8a426078",
   "metadata": {},
   "outputs": [
    {
     "name": "stdin",
     "output_type": "stream",
     "text": [
      "Enter the number:  4\n"
     ]
    },
    {
     "name": "stdout",
     "output_type": "stream",
     "text": [
      "Factorial of a number using for loop: 24\n",
      "Factorial of a number using recursive method: 24\n"
     ]
    }
   ],
   "source": [
    "n = int(input(\"Enter the number: \"))\n",
    "\n",
    "def factorial(n):\n",
    "    fact = 1\n",
    "    for i in range(1, n + 1):  # Changed 'num' to 'n'\n",
    "        fact *= i\n",
    "    print(\"Factorial of a number using for loop:\", fact)\n",
    "\n",
    "def factorial_recursive(n):\n",
    "    if n == 0:\n",
    "        return 1\n",
    "    else:\n",
    "        return n * factorial_recursive(n - 1)\n",
    "\n",
    "factorial(n)\n",
    "print(\"Factorial of a number using recursive method:\", factorial_recursive(n))\n"
   ]
  },
  {
   "cell_type": "code",
   "execution_count": null,
   "id": "57051131-cf3b-4f15-adcd-7714c6bc50b1",
   "metadata": {},
   "outputs": [],
   "source": []
  }
 ],
 "metadata": {
  "kernelspec": {
   "display_name": "Python 3 (ipykernel)",
   "language": "python",
   "name": "python3"
  },
  "language_info": {
   "codemirror_mode": {
    "name": "ipython",
    "version": 3
   },
   "file_extension": ".py",
   "mimetype": "text/x-python",
   "name": "python",
   "nbconvert_exporter": "python",
   "pygments_lexer": "ipython3",
   "version": "3.11.5"
  }
 },
 "nbformat": 4,
 "nbformat_minor": 5
}
